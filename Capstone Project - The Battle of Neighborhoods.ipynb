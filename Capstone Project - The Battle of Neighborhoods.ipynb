{
 "cells": [
  {
   "cell_type": "markdown",
   "metadata": {},
   "source": [
    "# Applied-Data-Science-Capstone\n",
    "\n",
    "## Peer-graded Assignment: Capstone Project - The Battle of Neighborhoods"
   ]
  },
  {
   "cell_type": "markdown",
   "metadata": {},
   "source": [
    "Now that you have been equipped with the skills and the tools to use location data to explore a geographical location, \n",
    "over the course of two weeks, you will have the opportunity to be as creative as you want and come up with an idea to \n",
    "leverage the Foursquare location data to explore or compare neighborhoods or cities of your choice or to come up with a \n",
    "problem that you can use the Foursquare location data to solve."
   ]
  },
  {
   "cell_type": "markdown",
   "metadata": {},
   "source": [
    "## 1) Introduction/Business Problem\n",
    "\n",
    "Clearly define a problem or an idea of your choice, where you would need to leverage the Foursquare location data to \n",
    "solve or execute. Remember that data science problems always target an audience and are meant to help a group of \n",
    "stakeholders solve a problem, so make sure that you explicitly describe your audience and why they would care about \n",
    "your problem.\n",
    "\n",
    "**_The purpose of this project to assist persons looking to open a new Indian restaurant in New York City to choose the right location.\n",
    "This would be done by providing data about the income and population of each neighbourhood as well as the competitors already present in \n",
    "the same regions._**\n",
    "\n",
    "**_Questions that can be asked using the above mentioned datasets_**\n",
    "\n",
    "-What is best location in New York City for Indian Cuisine ?\n",
    "\n",
    "-Which areas have potential Indian Resturant Market ?\n",
    "\n",
    "-Which all areas lack Indian Resturants ?"
   ]
  },
  {
   "cell_type": "markdown",
   "metadata": {},
   "source": [
    "## 2) Data\n",
    "\n",
    "Describe the data that you will be using to solve the problem or execute your idea. Remember that you will need to use \n",
    "the Foursquare location data to solve the problem or execute your idea. You can absolutely use other datasets in \n",
    "combination with the Foursquare location data. So make sure that you provide adequate explanation and discussion, \n",
    "with examples, of the data that you will be using, even if it is only Foursquare location data.\n",
    "\n",
    "**_For this project we need the following data :_**\n",
    "\n",
    "**_New York City data that contains list Boroughs, Neighborhoods along with their latitude and longitude._**\n",
    "\n",
    "Data source : https://cocl.us/new_york_dataset\n",
    "\n",
    "_Description : This data set contains the required information. And we will use this data set to explore various neighborhoods of new york city._\n",
    "\n",
    "**_Indian resturants in each neighborhood of new york city._**\n",
    "\n",
    "_Data source : Fousquare API_\n",
    "\n",
    "_Description : By using this api we will get all the venues in each neighborhood. We can filter these venues to get only indian resturants._\n",
    "\n",
    "**_GeoSpace data_**\n",
    "\n",
    "_Data source : https://data.cityofnewyork.us/City-Government/Borough-Boundaries/tqmj-j8zm_\n",
    "\n",
    "_Description : By using this geo space data we will get the New york Borough boundaries that will help us visualize choropleth map._"
   ]
  },
  {
   "cell_type": "code",
   "execution_count": null,
   "metadata": {},
   "outputs": [],
   "source": []
  }
 ],
 "metadata": {
  "kernelspec": {
   "display_name": "Python 3",
   "language": "python",
   "name": "python3"
  },
  "language_info": {
   "codemirror_mode": {
    "name": "ipython",
    "version": 3
   },
   "file_extension": ".py",
   "mimetype": "text/x-python",
   "name": "python",
   "nbconvert_exporter": "python",
   "pygments_lexer": "ipython3",
   "version": "3.6.5"
  }
 },
 "nbformat": 4,
 "nbformat_minor": 2
}
